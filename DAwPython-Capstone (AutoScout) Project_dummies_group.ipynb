{
 "cells": [
  {
   "cell_type": "markdown",
   "metadata": {},
   "source": [
    "# Phase-4 Convert all values to numerical (get_dummies)"
   ]
  },
  {
   "cell_type": "code",
   "execution_count": 1,
   "metadata": {},
   "outputs": [],
   "source": [
    "import matplotlib.pyplot as plt\n",
    "%matplotlib inline\n",
    "import numpy as np\n",
    "import pandas as pd\n",
    "from scipy import stats\n",
    "import seaborn as sns\n",
    "import warnings;\n",
    "warnings.filterwarnings(\"ignore\")\n",
    "import re\n",
    "pd.set_option(\"display.max_columns\",None)"
   ]
  },
  {
   "cell_type": "code",
   "execution_count": 2,
   "metadata": {},
   "outputs": [],
   "source": [
    "auto = pd.read_csv('Capstone_stage3.csv')\n",
    "df= auto.copy()"
   ]
  },
  {
   "cell_type": "code",
   "execution_count": 3,
   "metadata": {},
   "outputs": [],
   "source": [
    "df.columns = df.columns.str.replace('\\n','')"
   ]
  },
  {
   "cell_type": "code",
   "execution_count": 4,
   "metadata": {},
   "outputs": [],
   "source": [
    "df.drop(['Upholstery', 'upholstery_material', 'Consumption_city', 'Consumption_country'], axis=1, inplace=True)"
   ]
  },
  {
   "cell_type": "code",
   "execution_count": 5,
   "metadata": {},
   "outputs": [
    {
     "data": {
      "text/plain": [
       "Index(['make_model', 'body_type', 'price', 'vat', 'km', 'age', 'prev_owner',\n",
       "       'hp', 'Type', 'Inspection new', 'Warranty(months)', 'Body Color',\n",
       "       'Paint Type', 'Nr. of Doors', 'Nr. of Seats', 'Gearing Type',\n",
       "       'Displacement', 'Cylinders', 'Weight', 'Drive chain', 'Fuel',\n",
       "       'CO2 Emission(g CO2/km)', 'Emission Class', 'Comfort & Convenience',\n",
       "       'Entertainment & Media', 'Extras', 'Safety & Security', 'Gears',\n",
       "       'Consumption_combined'],\n",
       "      dtype='object')"
      ]
     },
     "execution_count": 5,
     "metadata": {},
     "output_type": "execute_result"
    }
   ],
   "source": [
    "df.columns"
   ]
  },
  {
   "cell_type": "markdown",
   "metadata": {},
   "source": [
    "## Apply get_dummies method to object columns"
   ]
  },
  {
   "cell_type": "code",
   "execution_count": 6,
   "metadata": {},
   "outputs": [],
   "source": [
    "df_dummied = pd.get_dummies(df, columns=['make_model', 'body_type', 'vat', 'Type', 'Inspection new', 'Body Color', 'Paint Type', 'Gearing Type', 'Drive chain', 'Fuel', 'Emission Class'],drop_first=True)"
   ]
  },
  {
   "cell_type": "code",
   "execution_count": 7,
   "metadata": {
    "scrolled": true
   },
   "outputs": [
    {
     "data": {
      "text/plain": [
       "Index(['price', 'km', 'age', 'prev_owner', 'hp', 'Warranty(months)',\n",
       "       'Nr. of Doors', 'Nr. of Seats', 'Displacement', 'Cylinders', 'Weight',\n",
       "       'CO2 Emission(g CO2/km)', 'Comfort & Convenience',\n",
       "       'Entertainment & Media', 'Extras', 'Safety & Security', 'Gears',\n",
       "       'Consumption_combined', 'make_model_Audi A2', 'make_model_Audi A3',\n",
       "       'make_model_Opel Astra', 'make_model_Opel Corsa',\n",
       "       'make_model_Opel Insignia', 'make_model_Renault Clio',\n",
       "       'make_model_Renault Duster', 'make_model_Renault Espace',\n",
       "       'body_type_Convertible', 'body_type_Coupe', 'body_type_Off-Road',\n",
       "       'body_type_Other', 'body_type_Sedans', 'body_type_Station wagon',\n",
       "       'body_type_Transporter', 'body_type_Van', 'vat_VAT deductible',\n",
       "       'vat_VAT undeductible', 'Type_Employee's car', 'Type_New',\n",
       "       'Type_Pre-registered', 'Type_Used', 'Inspection new_Yes',\n",
       "       'Body Color_Black', 'Body Color_Blue', 'Body Color_Bronze',\n",
       "       'Body Color_Brown', 'Body Color_Green', 'Body Color_Grey',\n",
       "       'Body Color_Orange', 'Body Color_Red', 'Body Color_Silver',\n",
       "       'Body Color_Violet', 'Body Color_White', 'Body Color_Yellow',\n",
       "       'Paint Type_Perl effect', 'Paint Type_Uni/basic', 'Gearing Type_Manual',\n",
       "       'Gearing Type_Semi-automatic', 'Drive chain_front', 'Drive chain_rear',\n",
       "       'Fuel_Diesel', 'Fuel_Gas', 'Fuel_Others', 'Emission Class_Euro 5',\n",
       "       'Emission Class_Euro 6'],\n",
       "      dtype='object')"
      ]
     },
     "execution_count": 7,
     "metadata": {},
     "output_type": "execute_result"
    }
   ],
   "source": [
    "df_dummied.columns"
   ]
  },
  {
   "cell_type": "markdown",
   "metadata": {},
   "source": [
    "## Apply get_dummies method to columns extras, comfort_convenience, entertainment_media"
   ]
  },
  {
   "cell_type": "code",
   "execution_count": 8,
   "metadata": {},
   "outputs": [],
   "source": [
    "df_E = df['Extras'].astype('str').str.replace('[','').str.replace(\"]\",'').str.get_dummies(sep=', ')"
   ]
  },
  {
   "cell_type": "code",
   "execution_count": 9,
   "metadata": {},
   "outputs": [],
   "source": [
    "df_E.drop(columns = ['nan', \"'Right hand drive'\", \"'Sliding door'\",], inplace=True)"
   ]
  },
  {
   "cell_type": "code",
   "execution_count": 10,
   "metadata": {},
   "outputs": [],
   "source": [
    "df_C = df['Comfort & Convenience'].astype('str').str.replace('[','').str.replace(\"]\",'').str.get_dummies(sep=', ')"
   ]
  },
  {
   "cell_type": "code",
   "execution_count": 11,
   "metadata": {},
   "outputs": [],
   "source": [
    "df_C.drop(columns=['nan'], inplace=True)"
   ]
  },
  {
   "cell_type": "code",
   "execution_count": 12,
   "metadata": {},
   "outputs": [],
   "source": [
    "df_ent = df['Entertainment & Media'].astype('str').str.replace('[','').str.replace(\"]\",'').str.get_dummies(sep=', ')"
   ]
  },
  {
   "cell_type": "code",
   "execution_count": 13,
   "metadata": {},
   "outputs": [],
   "source": [
    "df_ent.drop(columns=['nan'], inplace=True)"
   ]
  },
  {
   "cell_type": "code",
   "execution_count": 14,
   "metadata": {},
   "outputs": [],
   "source": [
    "df_sec = df['Safety & Security'].astype('str').str.replace('[','').str.replace(\"]\",'').str.get_dummies(sep=', ')"
   ]
  },
  {
   "cell_type": "code",
   "execution_count": 15,
   "metadata": {},
   "outputs": [],
   "source": [
    "df_sec.drop(columns=['nan'], inplace=True)"
   ]
  },
  {
   "cell_type": "markdown",
   "metadata": {},
   "source": [
    "### Additional Dropping"
   ]
  },
  {
   "cell_type": "code",
   "execution_count": 16,
   "metadata": {},
   "outputs": [
    {
     "data": {
      "text/plain": [
       "Index(['alloy_wheels', 'cab_or_rented_car', 'catalytic_converter',\n",
       "       'handicapped_enabled', 'roof_rack', 'shift_paddles', 'ski_bag',\n",
       "       'sport_package', 'sport_seats', 'sport_suspension', 'touch_screen',\n",
       "       'trailer_hitch', 'tuned_car', 'voice_control', 'winter_tyres'],\n",
       "      dtype='object')"
      ]
     },
     "execution_count": 16,
     "metadata": {},
     "output_type": "execute_result"
    }
   ],
   "source": [
    "df_E.columns = df_E.columns.str.replace(\"'\",\"\").str.lower().str.replace(\" \",\"_\")\n",
    "df_E.columns"
   ]
  },
  {
   "cell_type": "code",
   "execution_count": 17,
   "metadata": {},
   "outputs": [],
   "source": [
    "df_E.drop(columns = [\"tuned_car\", \"handicapped_enabled\"], inplace=True)"
   ]
  },
  {
   "cell_type": "code",
   "execution_count": 18,
   "metadata": {},
   "outputs": [],
   "source": [
    "df_C.drop(columns=[\"'Electric Starter'\",\"'Windshield'\", \"'Leather seats'\", \"'Wind deflector'\", \"'Air suspension'\"], inplace=True)"
   ]
  },
  {
   "cell_type": "code",
   "execution_count": 19,
   "metadata": {},
   "outputs": [],
   "source": [
    "df_ent.drop(columns=[\"'Television'\"], inplace=True)"
   ]
  },
  {
   "cell_type": "code",
   "execution_count": 20,
   "metadata": {},
   "outputs": [],
   "source": [
    "df_sec.drop(columns=[\"'Night view assist'\"], inplace=True)"
   ]
  },
  {
   "cell_type": "code",
   "execution_count": 21,
   "metadata": {},
   "outputs": [],
   "source": [
    "df_last = pd.concat([df_dummied, df_E, df_C, df_ent, df_sec], axis = 1)"
   ]
  },
  {
   "cell_type": "code",
   "execution_count": 22,
   "metadata": {},
   "outputs": [],
   "source": [
    "df_last.drop(columns=['Comfort & Convenience', 'Safety & Security', 'Entertainment & Media', 'Extras'], axis=1, inplace=True)"
   ]
  },
  {
   "cell_type": "code",
   "execution_count": 23,
   "metadata": {},
   "outputs": [
    {
     "data": {
      "text/plain": [
       "(15915, 143)"
      ]
     },
     "execution_count": 23,
     "metadata": {},
     "output_type": "execute_result"
    }
   ],
   "source": [
    "df_last.shape"
   ]
  },
  {
   "cell_type": "code",
   "execution_count": 24,
   "metadata": {},
   "outputs": [
    {
     "data": {
      "text/plain": [
       "0"
      ]
     },
     "execution_count": 24,
     "metadata": {},
     "output_type": "execute_result"
    }
   ],
   "source": [
    "df_last.isnull().sum().sum()"
   ]
  },
  {
   "cell_type": "code",
   "execution_count": 30,
   "metadata": {},
   "outputs": [
    {
     "data": {
      "text/plain": [
       "Index([], dtype='object')"
      ]
     },
     "execution_count": 30,
     "metadata": {},
     "output_type": "execute_result"
    }
   ],
   "source": [
    "df_last.select_dtypes(include='object').columns"
   ]
  },
  {
   "cell_type": "markdown",
   "metadata": {},
   "source": [
    "## Final data was saved to csv "
   ]
  },
  {
   "cell_type": "code",
   "execution_count": 67,
   "metadata": {},
   "outputs": [],
   "source": [
    "df_last.to_csv('last_df.csv', index=False)"
   ]
  },
  {
   "cell_type": "code",
   "execution_count": null,
   "metadata": {},
   "outputs": [],
   "source": []
  }
 ],
 "metadata": {
  "kernelspec": {
   "display_name": "Python 3",
   "language": "python",
   "name": "python3"
  },
  "language_info": {
   "codemirror_mode": {
    "name": "ipython",
    "version": 3
   },
   "file_extension": ".py",
   "mimetype": "text/x-python",
   "name": "python",
   "nbconvert_exporter": "python",
   "pygments_lexer": "ipython3",
   "version": "3.8.5"
  }
 },
 "nbformat": 4,
 "nbformat_minor": 5
}
